{
 "cells": [
  {
   "cell_type": "markdown",
   "metadata": {},
   "source": [
    "In this project, let's build and deploy a very simple Artificial Intelligent Chatbot. We will use the flask method to deploy the chatbot and the chatterbot package in python to build a chatbot. For building and deploying a chatbot successfully you should be familiar with flask and HTML frameworks. Yes obviously, you should be very good with Python and most importantly the Chatterbot library in python to build this AI chatbot."
   ]
  },
  {
   "cell_type": "markdown",
   "metadata": {},
   "source": [
    "##### What is a Chatbot? How to Deploy a Chatbot?\n",
    "A Chatbot is a computer program which is programmed to interact with a human. A chatbot is designed to reply to a human user based on their queries and conversations. If you think chatbots are a new technology, you’re wrong. The first chatbot, Eliza, was built in 1966 at MIT’s Artificial Intelligence Laboratory by Joseph Weizenbaum to mimic human conversations.\n",
    "\n",
    "Now, before we build and deploy a chatbot, you should know what the chatterbot library is, as we will use this library for building our chatbot.\n",
    "\n",
    "##### What is the Chatterbot Library in Python?\n",
    "Chatterbot is a Python library that generates responses for users. It uses a lot of pre-trained machine learning algorithms to give a variety of responses. It’s easy to create chatbots using the chatterbot library in Python. The chatbot should be designed to be language-independent. He must be trained in several languages. The chatbot is made up of data provided by the user.\n",
    "\n",
    "##### How to Deploy a Chatbot?\n",
    "In python, we have Flask, which is useful in the tasks of web development of any program. \n",
    "\n",
    "As we are going to deploy chatbot as a web application, so it is not possible to deploy it without the use of HTML and CSS as these two are the primary packages when it comes to the tasks of web development. "
   ]
  },
  {
   "cell_type": "markdown",
   "metadata": {},
   "source": [
    "Let’s code to build and deploy a chatbot. I will start with the HTML and CSS part, as it will work as the base of our chatbot, without the base we cannot start with the project. So now let’s start with the code:"
   ]
  },
  {
   "cell_type": "markdown",
   "metadata": {},
   "source": [
    "##### index.html\n",
    "Create a directory named 'templates' inside the project folder. Then, Create a new file named 'index.html' and copy the code given below to it. Save the file in the templates folder."
   ]
  },
  {
   "cell_type": "code",
   "execution_count": null,
   "metadata": {},
   "outputs": [],
   "source": [
    "<!DOCTYPE html>\n",
    "<html>\n",
    "<head>\n",
    "    <meta charset=\"utf-8\">\n",
    "    <meta name=\"viewport\" content=\"width=device-width, initial-scale=1, shrink-to-fit=no\">\n",
    "    <link rel=\"stylesheet\" href=\"https://maxcdn.bootstrapcdn.com/bootstrap/4.3.1/css/bootstrap.min.css\">\n",
    "    <link rel=\"stylesheet\" href=\"/static/style.css\">\n",
    "    <script src=\"https://ajax.googleapis.com/ajax/libs/jquery/3.2.1/jquery.min.js\"></script>\n",
    "</head>\n",
    "<body>\n",
    "    <h1 class=\"jumbotron text-center\">AI Chatbot with Python</h1>\n",
    "<div class=\"container\">\n",
    "    <div class=\"row\">\n",
    "        <div class=\"col-sm-6 offset-sm-3\">\n",
    "            <div id=\"chatbox\" class=\"border border-success\">\n",
    "                <p class=\"botText\"><span>Hi! I'm Chatterbot</span></p>\n",
    "            </div>\n",
    "            <div id=\"userInput\">\n",
    "                <input id=\"textInput\" class=\"form-control\" type=\"text\" name=\"msg\" placeholder=\"Type Your Message Here\">\n",
    "                <input id=\"buttonInput\" class=\"btn btn-success form-control\" type=\"submit\" value=\"Send\">\n",
    "            </div>\n",
    "        </div>\n",
    "    </div>\n",
    "\n",
    "<script>\n",
    "    function getResponse() {\n",
    "        let userText = $(\"#textInput\").val();\n",
    "        let userHtml = '<p class=\"userText\"><span>' + userText + '</span></p>';\n",
    "        $(\"#textInput\").val(\"\");\n",
    "        $(\"#chatbox\").append(userHtml);\n",
    "        document.getElementById('userInput').scrollIntoView({block: 'start', behavior: 'smooth'});\n",
    "        $.get(\"/get\", { msg: userText }).done(function(data) {\n",
    "        var botHtml = '<p class=\"botText\"><span>' + data + '</span></p>';\n",
    "        $(\"#chatbox\").append(botHtml);\n",
    "        document.getElementById('userInput').scrollIntoView({block: 'start', behavior: 'smooth'});\n",
    "});\n",
    "}\n",
    "    $(\"#textInput\").keypress(function(e) {\n",
    "    //if enter key is pressed\n",
    "        if(e.which == 13) {\n",
    "            getResponse();\n",
    "        }\n",
    "    });\n",
    "    $(\"#buttonInput\").click(function() {\n",
    "        getResponse();\n",
    "    });\n",
    "    </script>\n",
    "    <script src=\"https://ajax.googleapis.com/ajax/libs/jquery/3.4.1/jquery.min.js\"></script>\n",
    "    <script src=\"https://cdnjs.cloudflare.com/ajax/libs/popper.js/1.14.7/umd/popper.min.js\"></script>\n",
    "    <script src=\"https://maxcdn.bootstrapcdn.com/bootstrap/4.3.1/js/bootstrap.min.js\"></script>\n",
    "</div>\n",
    "</body>\n",
    "</html>"
   ]
  },
  {
   "cell_type": "markdown",
   "metadata": {},
   "source": [
    "##### style.css\n",
    "Create a file named 'style.css' and copy the code given below to it. Save the file in the project folder."
   ]
  },
  {
   "cell_type": "code",
   "execution_count": null,
   "metadata": {},
   "outputs": [],
   "source": [
    "#textInput {\n",
    "    border: none;\n",
    "    border-bottom: 3px solid aqua;\n",
    "}\n",
    "\n",
    ".userText {\n",
    "    color: white;\n",
    "    font-family: monospace;\n",
    "    font-size: 17px;\n",
    "    text-align: right;\n",
    "    line-height: 30px;\n",
    "}\n",
    ".userText span {\n",
    "    background-color: #009688;\n",
    "    padding: 10px;\n",
    "    border-radius: 2px;\n",
    "}\n",
    ".botText {\n",
    "    color: white;\n",
    "    font-family: monospace;\n",
    "    font-size: 17px;\n",
    "    text-align: left;\n",
    "    line-height: 30px;\n",
    "}\n",
    ".botText span {\n",
    "    background-color: #EF5350;\n",
    "    padding: 10px;\n",
    "    border-radius: 2px;\n",
    "}"
   ]
  },
  {
   "cell_type": "markdown",
   "metadata": {},
   "source": [
    "##### app.py\n",
    "This is the main file with flask code for deploying the chatbot. Create a file named 'app.py' and copy the code given below to it. Save the file in the project folder."
   ]
  },
  {
   "cell_type": "code",
   "execution_count": null,
   "metadata": {},
   "outputs": [],
   "source": [
    "#imports\n",
    "from flask import Flask, render_template, request\n",
    "from chatterbot import ChatBot\n",
    "from chatterbot.trainers import ChatterBotCorpusTrainer\n",
    "\n",
    "app = Flask(__name__)\n",
    "#create chatbot\n",
    "englishBot = ChatBot(\"Chatterbot\", storage_adapter=\"chatterbot.storage.SQLStorageAdapter\")\n",
    "trainer = ChatterBotCorpusTrainer(englishBot)\n",
    "trainer.train(\"chatterbot.corpus.english\") #train the chatter bot for english\n",
    "\n",
    "#define app routes\n",
    "@app.route(\"/\")\n",
    "def index():\n",
    "    return render_template(\"index.html\")\n",
    "\n",
    "@app.route(\"/get\")\n",
    "#function for the bot response\n",
    "def get_bot_response():\n",
    "    userText = request.args.get('msg')\n",
    "    return str(englishBot.get_response(userText))\n",
    "\n",
    "if __name__ == \"__main__\":\n",
    "    app.run()"
   ]
  },
  {
   "cell_type": "markdown",
   "metadata": {},
   "source": [
    "Now open the command prompt and run the following command\n",
    "###### python3 app.py"
   ]
  }
 ],
 "metadata": {
  "kernelspec": {
   "display_name": "Python 3",
   "language": "python",
   "name": "python3"
  },
  "language_info": {
   "codemirror_mode": {
    "name": "ipython",
    "version": 3
   },
   "file_extension": ".py",
   "mimetype": "text/x-python",
   "name": "python",
   "nbconvert_exporter": "python",
   "pygments_lexer": "ipython3",
   "version": "3.9.2"
  }
 },
 "nbformat": 4,
 "nbformat_minor": 2
}
